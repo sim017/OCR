{
  "nbformat": 4,
  "nbformat_minor": 0,
  "metadata": {
    "colab": {
      "name": "Welcome To Colaboratory",
      "provenance": [],
      "collapsed_sections": [],
      "toc_visible": true,
      "include_colab_link": true
    },
    "kernelspec": {
      "display_name": "Python 3",
      "name": "python3"
    }
  },
  "cells": [
    {
      "cell_type": "markdown",
      "metadata": {
        "id": "view-in-github",
        "colab_type": "text"
      },
      "source": [
        "<a href=\"https://colab.research.google.com/github/sim017/OCR/blob/master/OCR.ipynb\" target=\"_parent\"><img src=\"https://colab.research.google.com/assets/colab-badge.svg\" alt=\"Open In Colab\"/></a>"
      ]
    },
    {
      "cell_type": "code",
      "metadata": {
        "id": "EJ3dpi_8Nvsv",
        "colab_type": "code",
        "colab": {}
      },
      "source": [
        "import numpy as np\n"
      ],
      "execution_count": 0,
      "outputs": []
    },
    {
      "cell_type": "code",
      "metadata": {
        "id": "_hQgGB_qN0SO",
        "colab_type": "code",
        "colab": {}
      },
      "source": [
        "image_size = 28\n",
        "no_of_labels = 10\n",
        "image_pixels = 28*28\n",
        "train_data = np.loadtxt(\"mnist_train.csv\",delimiter=\",\")\n",
        "test_data = np.loadtxt(\"mnist_test.csv\",delimiter=\",\")\n",
        "print(test_data)\n",
        "print(test_data.shape)"
      ],
      "execution_count": 0,
      "outputs": []
    },
    {
      "cell_type": "code",
      "metadata": {
        "id": "hq_NLVPaN2uC",
        "colab_type": "code",
        "colab": {}
      },
      "source": [
        "#scaling\n",
        "fac =0.99/255 #to bring every value between the range [0.01,1]\n",
        "train_imgs = np.array(train_data[:,1:])*fac+0.01\n",
        "test_imgs = np.array(test_data[:,1:])*fac+0.01\n",
        "print(test_imgs)\n",
        "print(test_imgs.shape)\n",
        "train_labels = np.asfarray(train_data[:, :1])\n",
        "test_labels = np.asfarray(test_data[:, :1])\n",
        "print(test_labels)\n",
        "print(test_labels.shape)"
      ],
      "execution_count": 0,
      "outputs": []
    },
    {
      "cell_type": "code",
      "metadata": {
        "id": "xNwxuXOsN5l-",
        "colab_type": "code",
        "colab": {}
      },
      "source": [
        "lr = np.arange(10)\n",
        "\n",
        "for label in range(10):\n",
        "    one_hot = (lr==label).astype(np.int)\n",
        "    print(\"label: \", label, \" in one-hot representation: \", one_hot)\n",
        "lr = np.arange(10)\n",
        "\n",
        "# transform labels into one hot representation\n",
        "train_labels_one_hot = (lr==train_labels).astype(np.float)\n",
        "test_labels_one_hot = (lr==test_labels).astype(np.float)\n",
        "\n",
        "# we don't want zeroes and ones in the labels neither:\n",
        "train_labels_one_hot[train_labels_one_hot==0] = 0.01\n",
        "train_labels_one_hot[train_labels_one_hot==1] = 0.99\n",
        "test_labels_one_hot[test_labels_one_hot==0] = 0.01\n",
        "test_labels_one_hot[test_labels_one_hot==1] = 0.99\n",
        "\n",
        "print(test_labels_one_hot.shape)\n",
        "print(train_labels_one_hot.shape)"
      ],
      "execution_count": 0,
      "outputs": []
    },
    {
      "cell_type": "code",
      "metadata": {
        "id": "1JOMM0xRN9UT",
        "colab_type": "code",
        "colab": {}
      },
      "source": [
        "@np.vectorize\n",
        "def sigmoid(x):\n",
        "    return 1 / (1 + np.e ** -x)\n",
        "\n",
        "\n",
        "class NeuralNetwork:\n",
        "    def __init__(self,no_input_nodes, no_output_nodes, no_hidden_layers):\n",
        "        self.no_input_nodes = no_input_nodes\n",
        "        self.no_output_nodes = no_output_nodes\n",
        "        self.no_hidden_layers = no_hidden_layers\n",
        "        self.w1 = np.random.randn(self.no_hidden_layers,self.no_input_nodes) #wieght for the hidden layers\n",
        "        self.b1 = np.zeros(shape=(self.no_hidden_layers,1))\n",
        "        self.w2 = np.random.randn(self.no_output_nodes,self.no_hidden_layers)\n",
        "        self.b2 = np.zeros(shape=(self.no_output_nodes,1))\n",
        "        self.learning_rate = 0.1\n",
        "        \n",
        "        self.sigmoid_function = sigmoid\n",
        "        \n",
        "      \n",
        "    \n",
        "    def forward_backward_propogation(self,input_vector,output_vector,no_of_iterations):\n",
        "        global train_imgs\n",
        "        input_vector = np.array(input_vector,ndmin=2).T\n",
        "        output_vector = np.array(output_vector,ndmin=2).T\n",
        "        print(\"input_vector\")\n",
        "        print(input_vector.shape)\n",
        "        print(\"output_vector\")\n",
        "        print(output_vector.shape)\n",
        "        for i in range(0,no_of_iterations):\n",
        "            output_vector1 = np.dot(self.w1,input_vector) + self.b1\n",
        "            print(\"output_vector1\")\n",
        "            print(output_vector1.shape)\n",
        "            \n",
        "            output_hidden = self.sigmoid_function(output_vector1)\n",
        "            print(\"output_hidden\")\n",
        "            print(output_hidden.shape)\n",
        "            output_vector2 = np.dot(self.w2,output_hidden)+self.b2\n",
        "            print(\"output_vector2\")\n",
        "            print(output_vector2)\n",
        "            final_output = self.sigmoid_function(output_vector2)\n",
        "            print(\"final output\")\n",
        "            print(final_output.shape)\n",
        "            #define cost function\n",
        "            m = train_imgs.shape[0]\n",
        "            logprobs = np.multiply(np.log(final_output),output_vector)+np.multiply((1-output_vector),np.log(1-final_output))\n",
        "            cost = -np.sum(logprobs)/m\n",
        "            dz2 = final_output - output_vector\n",
        "            dw2 = (1/m)*(np.dot(dz2,output_hidden.T))\n",
        "            db2 = (1/m)*(np.sum(dz2,axis=1,keepdims=True))\n",
        "            dz1 = np.multiply(np.dot(self.w2.T,dz2),1-np.power(output_hidden,2))\n",
        "            dw1 = (1/m)*np.dot(dz1,input_vector.T)\n",
        "            db1 = (1/m)*np.sum(dz1,axis=1,keepdims=True)\n",
        "\n",
        "            self.w1 =self.w1 -self.learning_rate*dw1\n",
        "            self.w2 = self.w2 -self.learning_rate*dw2\n",
        "            self.b1 = self.b1 - self.learning_rate*db1\n",
        "            self.b2 = self.b2 - self.learning_rate*db2\n",
        "            \n",
        "    def forward_propogation_predict(self,input_vector):\n",
        "        input_vector = np.array(input_vector,ndmin=2).T\n",
        "#         output_vector = np.array(output_vector,ndmin=2).T\n",
        "        output_vector1 = np.dot(self.w1,input_vector) + self.b1\n",
        "        output_hidden = self.sigmoid_function(output_vector1)\n",
        "        output_vector2 = np.dot(self.w2,output_hidden)+self.b2\n",
        "        final_output = self.sigmoid_function(output_vector2)\n",
        "        return final_output\n",
        "    def predict_accuracy(self, input_vector, output_vector,no_of_iterations,test_input_vector,test_output_vector):\n",
        "        global test_labels\n",
        "        self.forward_backward_propogation(input_vector,output_vector,no_of_iterations)\n",
        "        Y = self.forward_propogation_predict(test_input_vector)\n",
        "        print(Y)\n",
        "        print(Y[:][0].shape)\n",
        "        print(Y.shape)\n",
        "        for i in range(0,20):\n",
        "            print(test_labels[i],np.argmax(Y[:][i]),np.max(Y[i]))\n",
        "            \n",
        "        accuracy = float((np.dot(test_output_vector,Y)+np.dot(1-test_output_vector,1-Y))/float(test_output_vector.size)*100)\n",
        "        print(\"Accuracy {} %\",accuracy)"
      ],
      "execution_count": 0,
      "outputs": []
    },
    {
      "cell_type": "code",
      "metadata": {
        "id": "l8aedKr5OFMO",
        "colab_type": "code",
        "colab": {}
      },
      "source": [
        "NeuralNetwork(image_pixels,10,100).predict_accuracy(train_imgs,train_labels_one_hot,1,test_imgs,test_labels_one_hot)"
      ],
      "execution_count": 0,
      "outputs": []
    }
  ]
}